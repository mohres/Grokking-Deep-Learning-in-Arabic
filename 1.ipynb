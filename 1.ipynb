{
 "cells": [
  {
   "cell_type": "markdown",
   "id": "54005baa-6f2e-4d61-8ecb-719c8ce9238a",
   "metadata": {},
   "source": [
    "<h1><center>السلام عليكم ورحمة الله وبركاته</center></h1>"
   ]
  },
  {
   "cell_type": "markdown",
   "id": "2d166c94-dec1-4e7d-ba7f-406383f76a5e",
   "metadata": {},
   "source": [
    "<h2><div dir=\"rtl\">مرحبا بكم في \"استيعاب التعلم العميق\"</div></h2>\n",
    "<p><div dir=\"rtl\">أنت على وشك تعلم بعض المهارات القيَمة في القرن الحادي والعشرين! هذه الدروس مقدمة لك إذا كنت جاد في رغبتك في:</div></p>\n",
    "<div dir=\"rtl\">\n",
    "    <ul>\n",
    "        <li>فهم كيف تتعلم الألات</li>\n",
    "        <li>معرفة تفاصيل عمل \"التعلم العميق\" و \"الشبكات العصبية\"</li>\n",
    "    </ul>\n",
    "</div>\n",
    "<p><div dir=\"rtl\">كل ما تحتاجه لهذا الدروس هو الوقت والصبر وبالطبع معرفة أساسيات البرمجة بلغة بايثون</div></p>\n"
   ]
  }
 ],
 "metadata": {
  "kernelspec": {
   "display_name": "Python 3 (ipykernel)",
   "language": "python",
   "name": "python3"
  },
  "language_info": {
   "codemirror_mode": {
    "name": "ipython",
    "version": 3
   },
   "file_extension": ".py",
   "mimetype": "text/x-python",
   "name": "python",
   "nbconvert_exporter": "python",
   "pygments_lexer": "ipython3",
   "version": "3.10.13"
  }
 },
 "nbformat": 4,
 "nbformat_minor": 5
}
